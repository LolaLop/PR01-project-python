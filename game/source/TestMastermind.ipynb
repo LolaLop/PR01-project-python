{
 "cells": [
  {
   "cell_type": "markdown",
   "metadata": {},
   "source": [
    "# Mastermind"
   ]
  },
  {
   "cell_type": "markdown",
   "metadata": {},
   "source": [
    "## Libraries to import"
   ]
  },
  {
   "cell_type": "code",
   "execution_count": 10,
   "metadata": {
    "ExecuteTime": {
     "end_time": "2020-07-10T08:35:40.206665Z",
     "start_time": "2020-07-10T08:35:40.201990Z"
    }
   },
   "outputs": [],
   "source": [
    "from random import choice"
   ]
  },
  {
   "cell_type": "markdown",
   "metadata": {},
   "source": [
    "## Inputs"
   ]
  },
  {
   "cell_type": "code",
   "execution_count": 1,
   "metadata": {
    "ExecuteTime": {
     "end_time": "2020-07-10T06:21:23.588303Z",
     "start_time": "2020-07-10T06:21:23.582297Z"
    }
   },
   "outputs": [],
   "source": [
    "colours = ['B', 'G', 'R', 'Y', 'W', 'P']\n",
    "level = 4"
   ]
  },
  {
   "cell_type": "markdown",
   "metadata": {},
   "source": [
    "## Generate the code"
   ]
  },
  {
   "cell_type": "code",
   "execution_count": 3,
   "metadata": {
    "ExecuteTime": {
     "end_time": "2020-07-10T06:04:31.703742Z",
     "start_time": "2020-07-10T06:04:31.694965Z"
    }
   },
   "outputs": [],
   "source": [
    "def generate(colours, level):\n",
    "    code = []\n",
    "    for i in range(level):\n",
    "        code.append(random.choice(colours))\n",
    "    return code"
   ]
  },
  {
   "cell_type": "code",
   "execution_count": 4,
   "metadata": {
    "ExecuteTime": {
     "end_time": "2020-07-10T06:04:32.133210Z",
     "start_time": "2020-07-10T06:04:32.127416Z"
    }
   },
   "outputs": [],
   "source": [
    "code = generate(colours, level)"
   ]
  },
  {
   "cell_type": "markdown",
   "metadata": {},
   "source": [
    "## User input"
   ]
  },
  {
   "cell_type": "code",
   "execution_count": 5,
   "metadata": {
    "ExecuteTime": {
     "end_time": "2020-07-10T06:07:19.711689Z",
     "start_time": "2020-07-10T06:07:11.867122Z"
    }
   },
   "outputs": [
    {
     "name": "stdout",
     "output_type": "stream",
     "text": [
      "Tell me a code: A\n",
      "You have introduced less colours than 4\n",
      "Tell me a code: AAAA\n",
      "A does not belong to the colour code ['B', 'G', 'R', 'Y', 'W', 'P']\n",
      "A does not belong to the colour code ['B', 'G', 'R', 'Y', 'W', 'P']\n",
      "A does not belong to the colour code ['B', 'G', 'R', 'Y', 'W', 'P']\n",
      "A does not belong to the colour code ['B', 'G', 'R', 'Y', 'W', 'P']\n",
      "Tell me a code: BBBB\n"
     ]
    }
   ],
   "source": [
    "while True:\n",
    "\n",
    "    ok = True\n",
    "    usercode = input('Tell me a code: ')\n",
    "    \n",
    "    # Check the length of the code:\n",
    "\n",
    "    if len(usercode) > level:\n",
    "        ok = False\n",
    "        print(f'You have introduced more colours than {level}')\n",
    "        \n",
    "    elif len(usercode) < level:\n",
    "        ok = False\n",
    "        print(f'You have introduced less colours than {level}')\n",
    "    else:\n",
    "        \n",
    "        # Check that the colours are inside the predefined ones\n",
    "        for letter in usercode:\n",
    "            if letter not in colours:\n",
    "                ok = False\n",
    "                print(f'{letter} does not belong to the colour code {colours}')\n",
    "\n",
    "    if ok:\n",
    "        break\n",
    "            "
   ]
  },
  {
   "cell_type": "markdown",
   "metadata": {},
   "source": [
    "## Check"
   ]
  },
  {
   "cell_type": "code",
   "execution_count": 6,
   "metadata": {
    "ExecuteTime": {
     "end_time": "2020-07-10T06:09:07.178283Z",
     "start_time": "2020-07-10T06:09:07.171178Z"
    }
   },
   "outputs": [],
   "source": [
    "def check(usercode, code):\n",
    "    \n",
    "    # contadores\n",
    "    bulls = len([i for i,j in zip(usercode, code) if i == j])\n",
    "    cows = len([i for i in usercode if i in code]) - bulls\n",
    "    \n",
    "    if cows < 0:\n",
    "        cows = 0\n",
    "    \n",
    "    return cows, bulls\n",
    "\n",
    "    \n",
    "    "
   ]
  },
  {
   "cell_type": "markdown",
   "metadata": {
    "ExecuteTime": {
     "end_time": "2020-07-10T06:10:02.736603Z",
     "start_time": "2020-07-10T06:10:02.727414Z"
    }
   },
   "source": [
    "## Classes"
   ]
  },
  {
   "cell_type": "code",
   "execution_count": 12,
   "metadata": {
    "ExecuteTime": {
     "end_time": "2020-07-10T08:35:54.229711Z",
     "start_time": "2020-07-10T08:35:54.209764Z"
    }
   },
   "outputs": [],
   "source": [
    "class Player():\n",
    "    def __init__(self, level=4 ): #mode='auto'):\n",
    "        #self.mode = mode\n",
    "        self.colours = ['B', 'G', 'R', 'Y', 'W', 'P']\n",
    "        self.level = 4\n",
    "        self.combinations = []\n",
    "    \n",
    "    def generate(self):\n",
    "        code = []\n",
    "        for i in range(self.level):\n",
    "            code.append(choice(self.colours))\n",
    "        self.code = code\n",
    "        \n",
    "\n",
    "    def guess(self):\n",
    "        while True:\n",
    "\n",
    "            ok = True\n",
    "            usercode = input('Tell me a code: ')\n",
    "            \n",
    "            # Do not differentiate between lower and upper cases:\n",
    "            usercode = usercode.upper()\n",
    "\n",
    "            # Check the length of the code:\n",
    "\n",
    "            if len(usercode) > self.level:\n",
    "                ok = False\n",
    "                print(f'You have introduced more colours than {self.level}')\n",
    "\n",
    "            elif len(usercode) < self.level:\n",
    "                ok = False\n",
    "                print(f'You have introduced less colours than {self.level}')\n",
    "            else:\n",
    "\n",
    "                # Check that the colours are inside the predefined ones\n",
    "                for letter in usercode:\n",
    "                    if letter not in self.colours:\n",
    "                        ok = False\n",
    "                        print(f'{letter} does not belong to the colour code {self.colours}')\n",
    "\n",
    "            if ok:\n",
    "                break\n",
    "                \n",
    "        return usercode\n",
    "        \n",
    "    def check(self, usercode):\n",
    "    \n",
    "        # contadores\n",
    "        bulls = len([i for i,j in zip(usercode, self.code) if i == j])\n",
    "        cows = len([i for i in usercode if i in self.code]) - bulls\n",
    "\n",
    "        if cows < 0:\n",
    "            cows = 0\n",
    "\n",
    "        if bulls == self.level:\n",
    "            print('Congratulations, you have guessed the code!!')\n",
    "        else:\n",
    "            print(f'cows = {cows} bulls={bulls}')\n",
    "        # return cows, bulls\n"
   ]
  },
  {
   "cell_type": "code",
   "execution_count": 37,
   "metadata": {
    "ExecuteTime": {
     "end_time": "2020-07-10T07:21:29.283915Z",
     "start_time": "2020-07-10T07:21:29.277488Z"
    }
   },
   "outputs": [],
   "source": [
    "p = Player()\n",
    "p.generate()"
   ]
  },
  {
   "cell_type": "code",
   "execution_count": 30,
   "metadata": {
    "ExecuteTime": {
     "end_time": "2020-07-10T07:12:00.985575Z",
     "start_time": "2020-07-10T07:11:55.980061Z"
    }
   },
   "outputs": [
    {
     "name": "stdout",
     "output_type": "stream",
     "text": [
      "Tell me a code: wbbb\n"
     ]
    }
   ],
   "source": [
    "usercode = p.guess()"
   ]
  },
  {
   "cell_type": "code",
   "execution_count": 38,
   "metadata": {
    "ExecuteTime": {
     "end_time": "2020-07-10T07:21:32.657285Z",
     "start_time": "2020-07-10T07:21:32.648272Z"
    }
   },
   "outputs": [
    {
     "data": {
      "text/plain": [
       "['BGRYWP', 'BGRYWP', 'BGRYWP', 'BGRYWP']"
      ]
     },
     "execution_count": 38,
     "metadata": {},
     "output_type": "execute_result"
    }
   ],
   "source": [
    "p.code"
   ]
  },
  {
   "cell_type": "code",
   "execution_count": 31,
   "metadata": {
    "ExecuteTime": {
     "end_time": "2020-07-10T07:12:07.297822Z",
     "start_time": "2020-07-10T07:12:07.292144Z"
    }
   },
   "outputs": [
    {
     "name": "stdout",
     "output_type": "stream",
     "text": [
      "Congratulations, you have guessed the code!!\n"
     ]
    }
   ],
   "source": [
    "p.check(usercode)"
   ]
  },
  {
   "cell_type": "markdown",
   "metadata": {},
   "source": [
    "## Game"
   ]
  },
  {
   "cell_type": "code",
   "execution_count": 13,
   "metadata": {
    "ExecuteTime": {
     "end_time": "2020-07-10T08:38:32.772225Z",
     "start_time": "2020-07-10T08:35:56.642786Z"
    }
   },
   "outputs": [
    {
     "name": "stdout",
     "output_type": "stream",
     "text": [
      "Tell me a code: bgey\n",
      "E does not belong to the colour code ['B', 'G', 'R', 'Y', 'W', 'P']\n",
      "Tell me a code: bgry\n",
      "cows = 2 bulls=1\n",
      "Tell me a code: bgrw\n",
      "cows = 1 bulls=1\n",
      "Tell me a code: bgyp\n",
      "cows = 3 bulls=0\n",
      "Tell me a code: gprr\n",
      "cows = 3 bulls=1\n",
      "Tell me a code: pgrr\n",
      "cows = 2 bulls=2\n",
      "Tell me a code: prrg\n",
      "cows = 1 bulls=3\n",
      "Tell me a code: prrp\n",
      "cows = 2 bulls=2\n",
      "Tell me a code: pprg\n",
      "cows = 1 bulls=3\n",
      "Tell me a code: prrg\n",
      "cows = 1 bulls=3\n",
      "Tell me a code: pgrg\n",
      "cows = 1 bulls=3\n",
      "Tell me a code: pbrg\n",
      "cows = 0 bulls=3\n",
      "Tell me a code: pyrg\n",
      "Congratulations, you have guessed the code!!\n"
     ]
    }
   ],
   "source": [
    "p = Player()\n",
    "p.generate()\n",
    "\n",
    "while True:\n",
    "    usercode = p.guess()\n",
    "    p.check(usercode)\n",
    "    if ''.join(p.code) == usercode:\n",
    "        break"
   ]
  },
  {
   "cell_type": "code",
   "execution_count": null,
   "metadata": {},
   "outputs": [],
   "source": []
  }
 ],
 "metadata": {
  "kernelspec": {
   "display_name": "Python 3",
   "language": "python",
   "name": "python3"
  },
  "language_info": {
   "codemirror_mode": {
    "name": "ipython",
    "version": 3
   },
   "file_extension": ".py",
   "mimetype": "text/x-python",
   "name": "python",
   "nbconvert_exporter": "python",
   "pygments_lexer": "ipython3",
   "version": "3.7.6"
  },
  "varInspector": {
   "cols": {
    "lenName": 16,
    "lenType": 16,
    "lenVar": 40
   },
   "kernels_config": {
    "python": {
     "delete_cmd_postfix": "",
     "delete_cmd_prefix": "del ",
     "library": "var_list.py",
     "varRefreshCmd": "print(var_dic_list())"
    },
    "r": {
     "delete_cmd_postfix": ") ",
     "delete_cmd_prefix": "rm(",
     "library": "var_list.r",
     "varRefreshCmd": "cat(var_dic_list()) "
    }
   },
   "types_to_exclude": [
    "module",
    "function",
    "builtin_function_or_method",
    "instance",
    "_Feature"
   ],
   "window_display": false
  }
 },
 "nbformat": 4,
 "nbformat_minor": 4
}
